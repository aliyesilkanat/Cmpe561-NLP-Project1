{
 "cells": [
  {
   "cell_type": "code",
   "execution_count": 62,
   "metadata": {},
   "outputs": [],
   "source": [
    "import pywrapfst as ofst\n",
    "import sys\n",
    "FST_PATH='Morphophonemics/'\n",
    "\n",
    "def set_input_fsm(input_string,ifst):\n",
    "    for i in range(len(input_string)):\n",
    "        #print ( ifst, str(i)+ \" \" + str(i+1)+ \" \" + input_string[i])\n",
    "        print >> ifst, str(i)+ \" \" + str(i+1)+ \" \" + input_string[i]\n",
    "    print >> ifst, str(i+1)\n",
    "    #print(i)\n",
    "    try:\n",
    "        return ifst.compile()\n",
    "    except:\n",
    "        return None\n",
    "\n",
    "def transduce((fst,ifst,isys),input_string):\n",
    "    a=set_input_fsm(input_string,ifst)\n",
    "    if a==None:\n",
    "        return \"\";\n",
    "    else:\n",
    "        b=ofst.compose(a,fst)\n",
    "        \n",
    "        b.set_input_symbols(isys)\n",
    "        b.set_output_symbols(isys)\n",
    "        print(b.text())\n",
    "        b.project(project_output=True)\n",
    "        lines=b.text(acceptor=True).split(\"\\n\")\n",
    "        output=\"\"\n",
    "        for l in lines:\n",
    "            sp=l.split(\"\\t\")\n",
    "            if len(sp)==3 and sp[2]!='<eps>':\n",
    "                output+=sp[2]\n",
    "        return output\n",
    "def get_fst(name):\n",
    "    syms=ofst.SymbolTable.read_text(FST_PATH+'symbols.txt')\n",
    "    fst=ofst.Fst.read(FST_PATH+name.lower()+'.fst')\n",
    "    return fst,ofst.Compiler(isymbols=syms,osymbols=syms,acceptor=True),syms  "
   ]
  },
  {
   "cell_type": "code",
   "execution_count": 66,
   "metadata": {},
   "outputs": [
    {
     "name": "stdout",
     "output_type": "stream",
     "text": [
      "0\t1\tm\tm\n",
      "1\t2\ta\ta\n",
      "2\t3\tk\tk\n",
      "3\t4\te\te\n",
      "4\t5\te\te\n",
      "5\t6\tr\tr\n",
      "6\t7\ty\ty\n",
      "6\t8\ty\t<eps>\n",
      "7\t9\t^\t^\n",
      "8\t10\t^\t<eps>\n",
      "9\t11\ts\ts\n",
      "10\t12\ts\t<eps>\n",
      "11\t13\t#\t#\n",
      "12\t14\t<eps>\ti\n",
      "13\n",
      "14\t15\t<eps>\te\n",
      "15\t11\t<eps>\ts\n",
      "\n",
      "makeery^s#ies\n"
     ]
    }
   ],
   "source": [
    "input_string='makeery^s#'\n",
    "print(transduce(get_fst('union'),input_string))\n"
   ]
  },
  {
   "cell_type": "code",
   "execution_count": null,
   "metadata": {},
   "outputs": [],
   "source": []
  },
  {
   "cell_type": "code",
   "execution_count": null,
   "metadata": {},
   "outputs": [],
   "source": []
  }
 ],
 "metadata": {
  "kernelspec": {
   "display_name": "Python 2",
   "language": "python",
   "name": "python2"
  },
  "language_info": {
   "codemirror_mode": {
    "name": "ipython",
    "version": 2
   },
   "file_extension": ".py",
   "mimetype": "text/x-python",
   "name": "python",
   "nbconvert_exporter": "python",
   "pygments_lexer": "ipython2",
   "version": "2.7.12"
  }
 },
 "nbformat": 4,
 "nbformat_minor": 2
}
