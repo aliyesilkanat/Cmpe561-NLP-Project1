{
 "cells": [
  {
   "cell_type": "code",
   "execution_count": 35,
   "metadata": {},
   "outputs": [],
   "source": [
    "import pywrapfst as ofst\n",
    "import sys\n",
    "FST_PATH='Morphophonemics/'\n",
    "\n",
    "def set_input_fsm(input_string,ifst):\n",
    "    for i in range(len(input_string)):\n",
    "        #print ( ifst, str(i)+ \" \" + str(i+1)+ \" \" + input_string[i])\n",
    "        print >> ifst, str(i)+ \" \" + str(i+1)+ \" \" + input_string[i]\n",
    "    print >> ifst, str(i+1)\n",
    "    #print(i)\n",
    "    try:\n",
    "        return ifst.compile()\n",
    "    except:\n",
    "        return None\n",
    "\n",
    "def transduce((fst,ifst,isys),input_string):\n",
    "    a=set_input_fsm(input_string,ifst)\n",
    "    if a==None:\n",
    "        return \"\";\n",
    "    else:\n",
    "        b=ofst.compose(a,fst)\n",
    "        \n",
    "        b.set_input_symbols(isys)\n",
    "        b.set_output_symbols(isys)\n",
    "        print(b.text())\n",
    "        b.project(project_output=True)\n",
    "        lines=b.text(acceptor=True).split(\"\\n\")\n",
    "        output=\"\"\n",
    "        for l in lines:\n",
    "            sp=l.split(\"\\t\")\n",
    "            if len(sp)==3 and sp[2]!='<eps>':\n",
    "                output+=sp[2]\n",
    "        return output\n",
    "def get_fst(name):\n",
    "    syms=ofst.SymbolTable.read_text(FST_PATH+'symbols.txt')\n",
    "    fst=ofst.Fst.read(FST_PATH+name.lower()+'.fst')\n",
    "    return fst,ofst.Compiler(isymbols=syms,osymbols=syms,acceptor=True),syms  "
   ]
  },
  {
   "cell_type": "code",
   "execution_count": 38,
   "metadata": {},
   "outputs": [
    {
     "name": "stdout",
     "output_type": "stream",
     "text": [
      "\n",
      "\n"
     ]
    }
   ],
   "source": [
    "input_string='act^ive^ist^ic#'\n",
    "print(transduce(get_fst('y-ie'),input_string))\n"
   ]
  },
  {
   "cell_type": "code",
   "execution_count": null,
   "metadata": {},
   "outputs": [],
   "source": []
  }
 ],
 "metadata": {
  "kernelspec": {
   "display_name": "Python 2",
   "language": "python",
   "name": "python2"
  },
  "language_info": {
   "codemirror_mode": {
    "name": "ipython",
    "version": 2
   },
   "file_extension": ".py",
   "mimetype": "text/x-python",
   "name": "python",
   "nbconvert_exporter": "python",
   "pygments_lexer": "ipython2",
   "version": "2.7.12"
  }
 },
 "nbformat": 4,
 "nbformat_minor": 2
}
