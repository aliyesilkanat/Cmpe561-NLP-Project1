{
 "cells": [
  {
   "cell_type": "code",
   "execution_count": 1,
   "metadata": {},
   "outputs": [],
   "source": [
    "import pywrapfst as ofst\n",
    "import sys\n",
    "FST_PATH='Morphophonemics/'\n",
    "\n",
    "def set_input_fsm(input_string,ifst):\n",
    "    for i in range(len(input_string)):\n",
    "        #print ( ifst, str(i)+ \" \" + str(i+1)+ \" \" + input_string[i])\n",
    "        print >> ifst, str(i)+ \" \" + str(i+1)+ \" \" + input_string[i]\n",
    "    print >> ifst, str(len(input_string))\n",
    "    #print(i)\n",
    "    try:\n",
    "        return ifst.compile()\n",
    "    except:\n",
    "        return None\n",
    "\n",
    "def transduce((fst,ifst,isys),input_string):\n",
    "    a=set_input_fsm(input_string,ifst)\n",
    "    if a==None:\n",
    "        return \"\";\n",
    "    else:\n",
    "        b=ofst.compose(a,fst)   \n",
    "        b.set_input_symbols(isys)\n",
    "        b.set_output_symbols(isys)\n",
    "        print(b.text())\n",
    "        b.project(project_output=True)\n",
    "        lines=b.text(acceptor=True).split(\"\\n\")\n",
    "        output=\"\"\n",
    "        for l in lines:\n",
    "            sp=l.split(\"\\t\")\n",
    "            if len(sp)==3 and sp[2]!='<eps>':\n",
    "                output+=sp[2]\n",
    "        return output\n",
    "def get_fst(name):\n",
    "    syms=ofst.SymbolTable.read_text(FST_PATH+'symbols.txt')\n",
    "    fst=ofst.Fst.read(FST_PATH+name.lower()+'.fst')\n",
    "    return fst,ofst.Compiler(isymbols=syms,osymbols=syms,acceptor=True),syms  "
   ]
  },
  {
   "cell_type": "code",
   "execution_count": 9,
   "metadata": {},
   "outputs": [
    {
     "name": "stdout",
     "output_type": "stream",
     "text": [
      "\n",
      "\n",
      "0\t1\tm\tm\n",
      "1\t2\ta\ta\n",
      "2\t3\tk\tk\n",
      "3\t4\te\t<eps>\n",
      "4\t5\te\te\n",
      "5\t6\t<eps>\te\n",
      "6\t7\tr\tr\n",
      "7\t8\ty\ty\n",
      "8\t9\t^\t^\n",
      "9\t10\te\t<eps>\n",
      "10\t11\td\te\n",
      "11\t12\t<eps>\td\n",
      "12\t13\t#\t#\n",
      "13\n",
      "\n",
      "makeery^ed#\n",
      "0\t1\tm\tm\n",
      "1\t2\ta\ta\n",
      "2\t3\tk\tk\n",
      "3\t4\te\te\n",
      "4\t5\te\te\n",
      "5\t6\tr\tr\n",
      "6\t7\ty\ty\n",
      "7\t8\t^\t<eps>\n",
      "8\t9\te\te\n",
      "9\t10\td\td\n",
      "10\t11\t#\t#\n",
      "11\n",
      "\n",
      "makeeryed#\n"
     ]
    }
   ],
   "source": [
    "input_string='makeery^ed#'\n",
    "a=transduce(get_fst('y-ie'),input_string)\n",
    "print(a)\n",
    "c=transduce(get_fst('silente'),input_string)\n",
    "print(c)\n",
    "b=transduce(get_fst('einsert'),input_string)\n",
    "print(b)\n",
    "\n",
    "\n",
    "\n"
   ]
  },
  {
   "cell_type": "code",
   "execution_count": 37,
   "metadata": {},
   "outputs": [
    {
     "name": "stdout",
     "output_type": "stream",
     "text": [
      "0\t1\tf\tf\n",
      "1\t2\to\to\n",
      "2\t3\ts\ts\n",
      "3\t4\t^\t<eps>\n",
      "4\t5\te\te\n",
      "5\t6\td\td\n",
      "6\t7\ts\ts\n",
      "7\t8\ts\ts\n",
      "8\t9\t#\t#\n",
      "9\n",
      "\n",
      "fosedss#\n"
     ]
    }
   ],
   "source": [
    "input_string='fos^edss#'\n",
    "b=transduce(get_fst('einsert'),input_string)\n",
    "print(b)\n"
   ]
  },
  {
   "cell_type": "code",
   "execution_count": null,
   "metadata": {},
   "outputs": [],
   "source": []
  },
  {
   "cell_type": "code",
   "execution_count": null,
   "metadata": {},
   "outputs": [],
   "source": []
  }
 ],
 "metadata": {
  "kernelspec": {
   "display_name": "Python 2",
   "language": "python",
   "name": "python2"
  },
  "language_info": {
   "codemirror_mode": {
    "name": "ipython",
    "version": 2
   },
   "file_extension": ".py",
   "mimetype": "text/x-python",
   "name": "python",
   "nbconvert_exporter": "python",
   "pygments_lexer": "ipython2",
   "version": "2.7.12"
  }
 },
 "nbformat": 4,
 "nbformat_minor": 2
}
