{
 "cells": [
  {
   "cell_type": "code",
   "execution_count": 57,
   "metadata": {},
   "outputs": [],
   "source": [
    "import pywrapfst as ofst\n",
    "import sys\n",
    "FST_PATH='Morphophonemics/'\n",
    "\n",
    "def set_input_fsm(input_string,ifst):\n",
    "    for i in range(len(input_string)):\n",
    "        print ( str(i)+ \" \" + str(i+1)+ \" \" + input_string[len(input_string)-i-1])\n",
    "        print >> ifst, str(i)+ \" \" + str(i+1)+ \" \" + input_string[len(input_string)-i-1]\n",
    "    print >> ifst, str(len(input_string))\n",
    "    print(str(len(input_string)))\n",
    "    try:\n",
    "        return ifst.compile()\n",
    "    except:\n",
    "        return None\n",
    "\n",
    "def transduce((fst,ifst,isys),input_string):\n",
    "    a=set_input_fsm(input_string,ifst)\n",
    "    if a==None:\n",
    "        return \"\";\n",
    "    else:\n",
    "        b=ofst.compose(fst,a)   \n",
    "        b.set_input_symbols(isys)\n",
    "        b.set_output_symbols(isys)\n",
    "        b.project(project_output=True)\n",
    "        lines=b.text(acceptor=True).split(\"\\n\")\n",
    "        output=\"\"\n",
    "        for l in lines:\n",
    "            sp=l.split(\"\\t\")\n",
    "            if len(sp)==3 and sp[2]!='<eps>':\n",
    "                output+=sp[2]\n",
    "        return output\n",
    "def get_fst(name):\n",
    "    syms=ofst.SymbolTable.read_text(FST_PATH+'symbols.txt')\n",
    "    fst=ofst.Fst.read(FST_PATH+name.lower()+'.fst')\n",
    "    return ofst.reverse(fst),ofst.Compiler(isymbols=syms,osymbols=syms,acceptor=True),syms  "
   ]
  },
  {
   "cell_type": "code",
   "execution_count": 60,
   "metadata": {},
   "outputs": [
    {
     "name": "stdout",
     "output_type": "stream",
     "text": [
      "0 1 #\n",
      "1 2 r\n",
      "2 3 e\n",
      "3 4 k\n",
      "4 5 a\n",
      "5 6 m\n",
      "6\n",
      "\n",
      "0 1 #\n",
      "1 2 r\n",
      "2 3 e\n",
      "3 4 k\n",
      "4 5 a\n",
      "5 6 m\n",
      "6\n",
      "#rrreeekaam\n",
      "0 1 #\n",
      "1 2 r\n",
      "2 3 e\n",
      "3 4 k\n",
      "4 5 a\n",
      "5 6 m\n",
      "6\n",
      "0 1 m\n",
      "1 2 m\n",
      "2 3 m\n",
      "3 4 m\n",
      "4 5 a\n",
      "5 6 a\n",
      "6 7 a\n",
      "7 8 a\n",
      "8 9 k\n",
      "9 10 k\n",
      "10 11 k\n",
      "11 12 k\n",
      "12 13 e\n",
      "13 14 e\n",
      "14 15 e\n",
      "15 16 r\n",
      "16 17 r\n",
      "17 18 r\n",
      "18 19 r\n",
      "19 20 #\n",
      "20 21 #\n",
      "21 22 #\n",
      "22 23 #\n",
      "23\n",
      "0\n",
      "\n"
     ]
    }
   ],
   "source": [
    "input_string='maker#'\n",
    "print(transduce(get_fst('y-ie'),input_string))\n",
    "print(transduce(get_fst('einsert'),input_string))\n",
    "print(transduce(get_fst('silente'),input_string))\n",
    "\n",
    "a=transduce(get_fst('y-ie'),input_string)\n",
    "b=transduce(get_fst('einsert'),a)\n",
    "c=transduce(get_fst('silente'),b)\n",
    "\n",
    "print(c)\n",
    "\n"
   ]
  },
  {
   "cell_type": "code",
   "execution_count": null,
   "metadata": {},
   "outputs": [],
   "source": []
  },
  {
   "cell_type": "code",
   "execution_count": null,
   "metadata": {},
   "outputs": [],
   "source": []
  }
 ],
 "metadata": {
  "kernelspec": {
   "display_name": "Python 2",
   "language": "python",
   "name": "python2"
  },
  "language_info": {
   "codemirror_mode": {
    "name": "ipython",
    "version": 2
   },
   "file_extension": ".py",
   "mimetype": "text/x-python",
   "name": "python",
   "nbconvert_exporter": "python",
   "pygments_lexer": "ipython2",
   "version": "2.7.12"
  }
 },
 "nbformat": 4,
 "nbformat_minor": 2
}
