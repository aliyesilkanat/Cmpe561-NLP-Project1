{
 "cells": [
  {
   "cell_type": "code",
   "execution_count": 52,
   "metadata": {},
   "outputs": [],
   "source": [
    "import pywrapfst as ofst\n",
    "FST_PATH='Lexicon/FSTs/'\n",
    "categories =['Verbs','Nouns','Pronouns','Adjectives','Adverbs'] "
   ]
  },
  {
   "cell_type": "code",
   "execution_count": 53,
   "metadata": {},
   "outputs": [],
   "source": [
    "def set_input_fsm(input_string,ifst):\n",
    "    i=0\n",
    "    while input_string[i]!='+':\n",
    "        #print(str(i)+ \" \" + str(i+1)+ \" \" + input_string[i])\n",
    "        print >> ifst, str(i)+ \" \" + str(i+1)+ \" \" + input_string[i]\n",
    "        i+=1\n",
    "    props=input_string[i+1:].split('+')\n",
    "    for p in props:\n",
    "        #print(str(i) + \" \" + str(i+1)+\" +\" +p)\n",
    "        print >> ifst, str(i) + \" \" + str(i+1)+\" +\" +p\n",
    "        i+=1\n",
    "    print >> ifst, str(i)\n",
    "    #print(i)\n",
    "    try:\n",
    "        return ifst.compile()\n",
    "    except:\n",
    "        return None\n",
    "\n",
    "def transduce((fst,ifst,isys),input_string):\n",
    "    a=set_input_fsm(input_string,ifst)\n",
    "    if a==None:\n",
    "        return \"\";\n",
    "    else:\n",
    "        b=ofst.compose(a,fst)\n",
    "        b.set_input_symbols(isys)\n",
    "        b.set_output_symbols(isys)\n",
    "        b.project(project_output=True)\n",
    "        lines=b.text(acceptor=True).split(\"\\n\")\n",
    "        output=\"\"\n",
    "        for l in lines:\n",
    "            sp=l.split(\"\\t\")\n",
    "            if len(sp)==3 and sp[2]!='<eps>':\n",
    "                output+=sp[2]\n",
    "        return output\n",
    "def get_fst(name):\n",
    "    syms=ofst.SymbolTable.read_text(FST_PATH+name+'/symbols.txt')\n",
    "    fst=ofst.Fst.read(FST_PATH+name+'/'+name.lower()+'.fst')\n",
    "    return fst,ofst.Compiler(isymbols=syms,osymbols=syms,acceptor=True),syms  "
   ]
  },
  {
   "cell_type": "code",
   "execution_count": 54,
   "metadata": {},
   "outputs": [
    {
     "name": "stdout",
     "output_type": "stream",
     "text": [
      "\n",
      "\n",
      "\n",
      "sharp^ly#\n",
      "\n"
     ]
    }
   ],
   "source": [
    "input_string=\"sharp-ly+ADV\"\n",
    "for i in categories:\n",
    "    print(transduce(get_fst(i),input_string))"
   ]
  },
  {
   "cell_type": "code",
   "execution_count": null,
   "metadata": {},
   "outputs": [],
   "source": []
  },
  {
   "cell_type": "code",
   "execution_count": null,
   "metadata": {},
   "outputs": [],
   "source": []
  },
  {
   "cell_type": "code",
   "execution_count": null,
   "metadata": {},
   "outputs": [],
   "source": []
  }
 ],
 "metadata": {
  "kernelspec": {
   "display_name": "Python 2",
   "language": "python",
   "name": "python2"
  },
  "language_info": {
   "codemirror_mode": {
    "name": "ipython",
    "version": 2
   },
   "file_extension": ".py",
   "mimetype": "text/x-python",
   "name": "python",
   "nbconvert_exporter": "python",
   "pygments_lexer": "ipython2",
   "version": "2.7.12"
  }
 },
 "nbformat": 4,
 "nbformat_minor": 2
}
