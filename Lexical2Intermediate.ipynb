{
 "cells": [
  {
   "cell_type": "code",
   "execution_count": 1,
   "metadata": {},
   "outputs": [],
   "source": [
    "import pywrapfst as ofst"
   ]
  },
  {
   "cell_type": "code",
   "execution_count": 2,
   "metadata": {},
   "outputs": [],
   "source": [
    "table=ofst.SymbolTable.read_text('/home/ali/Cmpe561NLP/Lexicon/FSTs/Pronouns/symbols.txt')\n",
    "input_symbols=ofst.SymbolTable.read_text('/home/ali/Cmpe561NLP/Lexicon/FSTs/Verbs/symbols.txt')\n",
    "output_symbols=ofst.SymbolTable.read_text('/home/ali/Cmpe561NLP/Lexicon/FSTs/Verbs/symbols.txt')\n",
    "fst=ofst.Fst.read('/home/ali/Cmpe561NLP/Lexicon/FSTs/Verbs/verbs.fst')\n",
    "ifst=ofst.Compiler(isymbols=input_symbols,osymbols=output_symbols,acceptor=True)"
   ]
  },
  {
   "cell_type": "code",
   "execution_count": 13,
   "metadata": {},
   "outputs": [
    {
     "name": "stdout",
     "output_type": "stream",
     "text": [
      "0 1 a\n",
      "1 2 c\n",
      "2 3 t\n",
      "3 4 +N\n",
      "4 5 +PL\n",
      "5\n",
      "act^s#\n"
     ]
    }
   ],
   "source": [
    "input = \"act+N+PL\"\n",
    "\n",
    "def set_input_fsm(input):\n",
    "    i=0\n",
    "    while input[i]!='+':\n",
    "        print(str(i)+ \" \" + str(i+1)+ \" \" + input[i])\n",
    "        print >> ifst, str(i)+ \" \" + str(i+1)+ \" \" + input[i]\n",
    "        i+=1\n",
    "    props=input[i+1:].split('+')\n",
    "    for p in props:\n",
    "        print(str(i) + \" \" + str(i+1)+\" +\" +p)\n",
    "        print >> ifst, str(i) + \" \" + str(i+1)+\" +\" +p\n",
    "        i+=1\n",
    "    print >> ifst, str(i)\n",
    "    print(i)\n",
    "    a=ifst.compile()\n",
    "    return a\n",
    "b=ofst.compose(set_input_fsm(input),fst)\n",
    "b.set_input_symbols(input_symbols)\n",
    "b.set_output_symbols(output_symbols)\n",
    "b.project(project_output=True)\n",
    "lines=b.text(acceptor=True).split(\"\\n\")\n",
    "output=\"\"\n",
    "for l in lines:\n",
    "    sp=l.split(\"\\t\")\n",
    "    if len(sp)==3 and sp[2]!='<eps>':\n",
    "        output+=sp[2]\n",
    "print(output)"
   ]
  },
  {
   "cell_type": "code",
   "execution_count": null,
   "metadata": {},
   "outputs": [],
   "source": []
  },
  {
   "cell_type": "code",
   "execution_count": null,
   "metadata": {},
   "outputs": [],
   "source": []
  }
 ],
 "metadata": {
  "kernelspec": {
   "display_name": "Python 2",
   "language": "python",
   "name": "python2"
  },
  "language_info": {
   "codemirror_mode": {
    "name": "ipython",
    "version": 2
   },
   "file_extension": ".py",
   "mimetype": "text/x-python",
   "name": "python",
   "nbconvert_exporter": "python",
   "pygments_lexer": "ipython2",
   "version": "2.7.12"
  }
 },
 "nbformat": 4,
 "nbformat_minor": 2
}
