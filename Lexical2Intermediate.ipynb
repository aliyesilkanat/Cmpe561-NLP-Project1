{
 "cells": [
  {
   "cell_type": "code",
   "execution_count": 1,
   "metadata": {},
   "outputs": [],
   "source": [
    "import pywrapfst as ofst"
   ]
  },
  {
   "cell_type": "code",
   "execution_count": 5,
   "metadata": {},
   "outputs": [],
   "source": [
    "def set_input_fsm(input,ifst):\n",
    "    i=0\n",
    "    while input[i]!='+':\n",
    "        print(str(i)+ \" \" + str(i+1)+ \" \" + input[i])\n",
    "        print >> ifst, str(i)+ \" \" + str(i+1)+ \" \" + input[i]\n",
    "        i+=1\n",
    "    props=input[i+1:].split('+')\n",
    "    for p in props:\n",
    "        print(str(i) + \" \" + str(i+1)+\" +\" +p)\n",
    "        print >> ifst, str(i) + \" \" + str(i+1)+\" +\" +p\n",
    "        i+=1\n",
    "    print >> ifst, str(i)\n",
    "    print(i)\n",
    "    return ifst.compile()\n",
    "def get_verbs_fst():\n",
    "    syms=ofst.SymbolTable.read_text('/home/ali/Cmpe561NLP/Lexicon/FSTs/Verbs/symbols.txt')\n",
    "    fst=ofst.Fst.read('/home/ali/Cmpe561NLP/Lexicon/FSTs/Verbs/verbs.fst')\n",
    "    return fst,ofst.Compiler(isymbols=syms,osymbols=syms,acceptor=True),syms"
   ]
  },
  {
   "cell_type": "code",
   "execution_count": 6,
   "metadata": {},
   "outputs": [
    {
     "name": "stdout",
     "output_type": "stream",
     "text": [
      "0 1 a\n",
      "1 2 c\n",
      "2 3 t\n",
      "3 4 -\n",
      "4 5 i\n",
      "5 6 v\n",
      "6 7 e\n",
      "7 8 -\n",
      "8 9 i\n",
      "9 10 s\n",
      "10 11 t\n",
      "11 12 -\n",
      "12 13 i\n",
      "13 14 c\n",
      "14 15 +ADJ\n",
      "15\n",
      "activeistic#\n"
     ]
    }
   ],
   "source": [
    "input = \"act-ive-ist-ic+ADJ\"\n",
    "\n",
    "fst,ifst,syms=get_verbs_fst()\n",
    "b=ofst.compose(set_input_fsm(input,ifst),fst)\n",
    "b.set_input_symbols(syms)\n",
    "b.set_output_symbols(syms)\n",
    "b.project(project_output=True)\n",
    "lines=b.text(acceptor=True).split(\"\\n\")\n",
    "output=\"\"\n",
    "for l in lines:\n",
    "    sp=l.split(\"\\t\")\n",
    "    if len(sp)==3 and sp[2]!='<eps>':\n",
    "        output+=sp[2]\n",
    "print(output)"
   ]
  },
  {
   "cell_type": "code",
   "execution_count": null,
   "metadata": {},
   "outputs": [],
   "source": []
  },
  {
   "cell_type": "code",
   "execution_count": null,
   "metadata": {},
   "outputs": [],
   "source": []
  },
  {
   "cell_type": "code",
   "execution_count": null,
   "metadata": {},
   "outputs": [],
   "source": []
  }
 ],
 "metadata": {
  "kernelspec": {
   "display_name": "Python 2",
   "language": "python",
   "name": "python2"
  },
  "language_info": {
   "codemirror_mode": {
    "name": "ipython",
    "version": 2
   },
   "file_extension": ".py",
   "mimetype": "text/x-python",
   "name": "python",
   "nbconvert_exporter": "python",
   "pygments_lexer": "ipython2",
   "version": "2.7.12"
  }
 },
 "nbformat": 4,
 "nbformat_minor": 2
}
