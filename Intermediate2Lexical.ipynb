{
 "cells": [
  {
   "cell_type": "code",
   "execution_count": 1,
   "metadata": {},
   "outputs": [],
   "source": [
    "import pywrapfst as ofst"
   ]
  },
  {
   "cell_type": "code",
   "execution_count": 24,
   "metadata": {},
   "outputs": [],
   "source": [
    "def set_input_fsm(input,ifst):\n",
    "    \n",
    "    input=input[::-1]\n",
    "    for i in range(len(input)):\n",
    "        print(str(i)+ \" \" + str(i+1)+ \" \" + input[i])\n",
    "        print >> ifst, str(i)+ \" \" + str(i+1)+ \" \" + input[i]\n",
    "    print (str(i+1))\n",
    "    print >> ifst,str(i+1)\n",
    "    a=ifst.compile()\n",
    "    return a\n",
    "def get_verbs_fst():\n",
    "    syms=ofst.SymbolTable.read_text('/home/ali/Cmpe561NLP/Lexicon/FSTs/Verbs/symbols.txt')\n",
    "    fst=ofst.Fst.read('/home/ali/Cmpe561NLP/Lexicon/FSTs/Verbs/verbs.fst')\n",
    "    a=ofst.reverse(fst)\n",
    "    return a,ofst.Compiler(isymbols=syms,osymbols=syms,acceptor=True),syms"
   ]
  },
  {
   "cell_type": "code",
   "execution_count": 25,
   "metadata": {},
   "outputs": [
    {
     "name": "stdout",
     "output_type": "stream",
     "text": [
      "0 1 #\n",
      "1 2 c\n",
      "2 3 i\n",
      "3 4 t\n",
      "4 5 s\n",
      "5 6 i\n",
      "6 7 e\n",
      "7 8 v\n",
      "8 9 i\n",
      "9 10 t\n",
      "10 11 c\n",
      "11 12 a\n",
      "12\n"
     ]
    }
   ],
   "source": [
    "input = \"activeistic#\"\n",
    "fst,ifst,isys=get_verbs_fst()\n",
    "a=set_input_fsm(input,ifst)\n",
    "b=ofst.compose(a,fst)\n"
   ]
  },
  {
   "cell_type": "code",
   "execution_count": 26,
   "metadata": {},
   "outputs": [
    {
     "name": "stdout",
     "output_type": "stream",
     "text": [
      "\n"
     ]
    }
   ],
   "source": [
    "b.set_input_symbols(isys)\n",
    "\n",
    "lines=b.text(acceptor=True).split(\"\\n\")\n",
    "output=\"\"\n",
    "for l in lines:\n",
    "    sp=l.split(\"\\t\")\n",
    "    if len(sp)==3 and sp[2]!='<eps>':\n",
    "        output+=sp[2]\n",
    "print(output)"
   ]
  },
  {
   "cell_type": "code",
   "execution_count": null,
   "metadata": {},
   "outputs": [],
   "source": []
  }
 ],
 "metadata": {
  "kernelspec": {
   "display_name": "Python 2",
   "language": "python",
   "name": "python2"
  },
  "language_info": {
   "codemirror_mode": {
    "name": "ipython",
    "version": 2
   },
   "file_extension": ".py",
   "mimetype": "text/x-python",
   "name": "python",
   "nbconvert_exporter": "python",
   "pygments_lexer": "ipython2",
   "version": "2.7.12"
  }
 },
 "nbformat": 4,
 "nbformat_minor": 2
}
