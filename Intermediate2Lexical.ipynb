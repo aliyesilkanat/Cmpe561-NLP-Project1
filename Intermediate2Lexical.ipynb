{
 "cells": [
  {
   "cell_type": "code",
   "execution_count": 110,
   "metadata": {},
   "outputs": [],
   "source": [
    "import pywrapfst as ofst\n",
    "import sys\n",
    "FST_PATH='Lexicon/FSTs/'\n",
    "categories =['Verbs','Nouns','Pronouns'] "
   ]
  },
  {
   "cell_type": "code",
   "execution_count": 111,
   "metadata": {},
   "outputs": [],
   "source": [
    "def set_input_fsm(input_string,ifst):\n",
    "    input_string=input_string[::-1]\n",
    "    for i in range(len(input_string)):\n",
    "        #print(str(i)+ \" \" + str(i+1)+ \" \" + input_string[i])\n",
    "        print >> ifst, str(i)+ \" \" + str(i+1)+ \" \" + input_string[i]\n",
    "    #print (str(i+1))\n",
    "    print >> ifst,str(i+1)\n",
    "    try:\n",
    "        return ifst.compile()\n",
    "    except:\n",
    "        return None\n",
    "def transduce((fst,ifst,isys),input_string):\n",
    "    a=set_input_fsm(input_string,ifst)\n",
    "    if a==None:\n",
    "        return \"\";\n",
    "    else:\n",
    "        b=ofst.compose(fst,a)\n",
    "        b.set_input_symbols(isys)\n",
    "        lines=b.text(acceptor=True).split(\"\\n\")\n",
    "        output=\"\"\n",
    "        for l in lines:\n",
    "            sp=l.split(\"\\t\")\n",
    "            if len(sp)==4 and sp[2]!='<eps>':\n",
    "                if sp[2][0]=='+':\n",
    "                    output+=sp[2][::-1]\n",
    "                else:\n",
    "                    output+=sp[2]\n",
    "        return output[::-1]\n",
    "def get_fst(name):\n",
    "    syms=ofst.SymbolTable.read_text(FST_PATH+name+'/symbols.txt')\n",
    "    fst=ofst.Fst.read(FST_PATH+name+'/'+name.lower()+'.fst')\n",
    "    return ofst.reverse(fst),ofst.Compiler(isymbols=syms,osymbols=syms,acceptor=True),syms  "
   ]
  },
  {
   "cell_type": "code",
   "execution_count": 112,
   "metadata": {},
   "outputs": [
    {
     "name": "stdout",
     "output_type": "stream",
     "text": [
      "\n",
      "person+N+PL\n",
      "\n"
     ]
    }
   ],
   "source": [
    "input_string = \"people#\"\n",
    "\n",
    "for i in categories:\n",
    "    print(transduce(get_fst(i),input_string))\n"
   ]
  },
  {
   "cell_type": "code",
   "execution_count": null,
   "metadata": {},
   "outputs": [],
   "source": []
  },
  {
   "cell_type": "code",
   "execution_count": null,
   "metadata": {},
   "outputs": [],
   "source": []
  }
 ],
 "metadata": {
  "kernelspec": {
   "display_name": "Python 2",
   "language": "python",
   "name": "python2"
  },
  "language_info": {
   "codemirror_mode": {
    "name": "ipython",
    "version": 2
   },
   "file_extension": ".py",
   "mimetype": "text/x-python",
   "name": "python",
   "nbconvert_exporter": "python",
   "pygments_lexer": "ipython2",
   "version": "2.7.12"
  }
 },
 "nbformat": 4,
 "nbformat_minor": 2
}
