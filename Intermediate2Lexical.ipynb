{
 "cells": [
  {
   "cell_type": "code",
   "execution_count": 28,
   "metadata": {},
   "outputs": [],
   "source": [
    "import pywrapfst as ofst\n",
    "import sys\n",
    "import easygui \n",
    "\n",
    "FST_PATH='Lexicon/FSTs/'\n",
    "categories =['Verbs','Nouns','Pronouns','Adjectives','Adverbs','Propositions','Auxillary Verbs'] "
   ]
  },
  {
   "cell_type": "code",
   "execution_count": 29,
   "metadata": {},
   "outputs": [],
   "source": [
    "def set_input_fsm(input_string,ifst):\n",
    "    input_string=input_string[::-1]\n",
    "    for i in range(len(input_string)):\n",
    "        #print(str(i)+ \" \" + str(i+1)+ \" \" + input_string[i])\n",
    "        print >> ifst, str(i)+ \" \" + str(i+1)+ \" \" + input_string[i]\n",
    "    #print (str(i+1))\n",
    "    print >> ifst,str(i+1)\n",
    "    try:\n",
    "        return ifst.compile()\n",
    "    except:\n",
    "        return None\n",
    "def transduce((fst,ifst,isys),input_string):\n",
    "    a=set_input_fsm(input_string,ifst)\n",
    "    if a==None:\n",
    "        return \"\";\n",
    "    else:\n",
    "        b=ofst.compose(fst,a)\n",
    "        b.set_input_symbols(isys)\n",
    "        lines=b.text(acceptor=True).split(\"\\n\")\n",
    "        output=\"\"\n",
    "        for l in lines:\n",
    "            sp=l.split(\"\\t\")\n",
    "            if len(sp)==4 and sp[2]!='<eps>':\n",
    "                if sp[2][0]=='+':\n",
    "                    output+=sp[2][::-1]\n",
    "                else:\n",
    "                    output+=sp[2]\n",
    "        return output[::-1]\n",
    "def get_fst(name):\n",
    "    syms=ofst.SymbolTable.read_text(FST_PATH+name+'/symbols.txt')\n",
    "    fst=ofst.Fst.read(FST_PATH+name+'/'+name.lower()+'.fst')\n",
    "    return ofst.reverse(fst),ofst.Compiler(isymbols=syms,osymbols=syms,acceptor=True),syms  "
   ]
  },
  {
   "cell_type": "code",
   "execution_count": 30,
   "metadata": {},
   "outputs": [
    {
     "name": "stdout",
     "output_type": "stream",
     "text": [
      "\n",
      "\n",
      "somebody+PRN\n",
      "\n",
      "\n",
      "\n",
      "\n"
     ]
    }
   ],
   "source": [
    "input_string = \"somebody#\"\n",
    "\n",
    "for i in categories:\n",
    "    print(transduce(get_fst(i),input_string))\n",
    "\n"
   ]
  },
  {
   "cell_type": "code",
   "execution_count": 31,
   "metadata": {},
   "outputs": [],
   "source": [
    "def run(input_string):\n",
    "    matches=\"\"\n",
    "    found=False\n",
    "    for i in categories:\n",
    "        match=transduce(get_fst(i),input_string)\n",
    "        if match!=\"\":\n",
    "            matches+=(transduce(get_fst(i),input_string)+\"\\n\")\n",
    "            print(transduce(get_fst(i),input_string))\n",
    "            found=True\n",
    "    if found==False:\n",
    "        print(\"No match!\")\n",
    "    return matches"
   ]
  },
  {
   "cell_type": "code",
   "execution_count": 32,
   "metadata": {},
   "outputs": [
    {
     "name": "stdout",
     "output_type": "stream",
     "text": [
      "be+V\n",
      "be+AUX\n"
     ]
    }
   ],
   "source": [
    "\n",
    "\n",
    "\n",
    "a=easygui.enterbox(title=\"Enter lexical form\")\n",
    "if a!=None:\n",
    "    results=run(a)\n",
    "    if len(results)>0:\n",
    "        easygui.textbox(text=results)\n",
    "    else:\n",
    "        easygui.textbox(text=\"No match!\")\n"
   ]
  },
  {
   "cell_type": "code",
   "execution_count": null,
   "metadata": {},
   "outputs": [],
   "source": []
  }
 ],
 "metadata": {
  "kernelspec": {
   "display_name": "Python 2",
   "language": "python",
   "name": "python2"
  },
  "language_info": {
   "codemirror_mode": {
    "name": "ipython",
    "version": 2
   },
   "file_extension": ".py",
   "mimetype": "text/x-python",
   "name": "python",
   "nbconvert_exporter": "python",
   "pygments_lexer": "ipython2",
   "version": "2.7.12"
  }
 },
 "nbformat": 4,
 "nbformat_minor": 2
}
