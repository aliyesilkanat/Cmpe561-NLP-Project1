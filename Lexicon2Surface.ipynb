{
 "cells": [
  {
   "cell_type": "code",
   "execution_count": 5,
   "metadata": {},
   "outputs": [],
   "source": [
    "import pywrapfst as ofst\n",
    "import easygui \n",
    "LEX_PATH='Lexicon/FSTs/'\n",
    "categories =['Verbs','Nouns','Pronouns','Adjectives','Adverbs','Propositions','Auxillary Verbs'] \n",
    "MORPH_PATH='Morphophonemics/'\n",
    "rules = ['y-ie','silente','einsert']\n",
    "LEX=\"LEX\"\n",
    "MORPH=\"MORPH\""
   ]
  },
  {
   "cell_type": "code",
   "execution_count": 6,
   "metadata": {},
   "outputs": [],
   "source": [
    "def set_input_fsm_int(input_string,ifst,isys):\n",
    "    i=0\n",
    "    while input_string[i]!='+':\n",
    "        #print(str(i)+ \" \" + str(i+1)+ \" \" + input_string[i])\n",
    "        print >> ifst, str(i)+ \" \" + str(i+1)+ \" \" + input_string[i]\n",
    "        i+=1\n",
    "    props=input_string[i+1:].split('+')\n",
    "    for p in props:\n",
    "        #print(str(i) + \" \" + str(i+1)+\" +\" +p)\n",
    "        print >> ifst, str(i) + \" \" + str(i+1)+\" +\" +p\n",
    "        i+=1\n",
    "    print >> ifst, str(i)\n",
    "\n",
    "    #print(i)\n",
    "    try:\n",
    "        return ifst.compile()\n",
    "    except:\n",
    "        return None\n",
    "def set_input_fsm_surf(input_string,ifst):\n",
    "    for i in range(len(input_string)):\n",
    "        #print ( ifst, str(i)+ \" \" + str(i+1)+ \" \" + input_string[i])\n",
    "        print >> ifst, str(i)+ \" \" + str(i+1)+ \" \" + input_string[i]\n",
    "    print >> ifst, str(len(input_string))\n",
    "    #print(i)\n",
    "    try:\n",
    "        return ifst.compile()\n",
    "    except:\n",
    "        return None\n",
    "def transduce((fst,ifst,isys),input_string,strategy):\n",
    "    if strategy==LEX:\n",
    "        a=set_input_fsm_int(input_string,ifst,isys)\n",
    "    else:\n",
    "        a=set_input_fsm_surf(input_string,ifst)\n",
    "    if a==None:\n",
    "        return \"\";\n",
    "    else:\n",
    "        b=ofst.compose(a,fst)\n",
    "        b.set_input_symbols(isys)\n",
    "        b.set_output_symbols(isys)\n",
    "        b.project(project_output=True)\n",
    "        lines=b.text(acceptor=True).split(\"\\n\")\n",
    "        output=\"\"\n",
    "        for l in lines:\n",
    "            sp=l.split(\"\\t\")\n",
    "            if len(sp)==3 and sp[2]!='<eps>':\n",
    "                output+=sp[2]\n",
    "        return output\n",
    "def get_lex_fst(name):\n",
    "    syms=ofst.SymbolTable.read_text(LEX_PATH+name+'/symbols.txt')\n",
    "    fst=ofst.Fst.read(LEX_PATH+name+'/'+name.lower()+'.fst')\n",
    "    return fst,ofst.Compiler(isymbols=syms,osymbols=syms,acceptor=True),syms  \n",
    "def get_morph_fst(name):\n",
    "    syms=ofst.SymbolTable.read_text(MORPH_PATH+'symbols.txt')\n",
    "    fst=ofst.Fst.read(MORPH_PATH+name.lower()+'.fst')\n",
    "    return fst,ofst.Compiler(isymbols=syms,osymbols=syms,acceptor=True),syms  "
   ]
  },
  {
   "cell_type": "code",
   "execution_count": 7,
   "metadata": {},
   "outputs": [],
   "source": [
    "def run_lex2int(input_string):\n",
    "    matches=\"\"\n",
    "    found=False\n",
    "    for i in categories:\n",
    "        match=transduce(get_lex_fst(i),input_string,LEX)\n",
    "        if match!=\"\":\n",
    "            matches+=match+\"\\n\"\n",
    "            found=True\n",
    "    if found==False:\n",
    "        print(\"No match!\")\n",
    "    return matches\n",
    "def run_int2surf(input_string):\n",
    "    matches=\"\"\n",
    "    found=False\n",
    "    for i in rules:\n",
    "        match=transduce(get_morph_fst(i),input_string,MORPH)\n",
    "        if '+' in match:\n",
    "            return match.replace(\"^\",\"\").replace(\"+\",\"\")\n",
    "    if found==False:\n",
    "        return input_string"
   ]
  },
  {
   "cell_type": "code",
   "execution_count": 9,
   "metadata": {},
   "outputs": [],
   "source": [
    "a=easygui.enterbox(title=\"Enter lexical form\")\n",
    "if '+' not in a:\n",
    "    easygui.textbox(text=\"No match, because you did not enter any POS tag\")\n",
    "elif a!=None and a!=\"\":\n",
    "    results_int=run_lex2int(a)\n",
    "    if len(results_int)>0:\n",
    "        output=\"Intermediate form:\\n\"+results_int\n",
    "        result_surface=\"\"\n",
    "        for form in results_int.split(\"\\n\"):\n",
    "            result_surface+=run_int2surf(form)+\"\\n\"\n",
    "        easygui.textbox(title=\"Results\",text=output + \"\\nSurface form:\\n\" + result_surface)\n",
    "    else:\n",
    "        easygui.textbox(text=\"No match!\")\n"
   ]
  },
  {
   "cell_type": "code",
   "execution_count": null,
   "metadata": {},
   "outputs": [],
   "source": []
  },
  {
   "cell_type": "code",
   "execution_count": null,
   "metadata": {},
   "outputs": [],
   "source": []
  }
 ],
 "metadata": {
  "kernelspec": {
   "display_name": "Python 2",
   "language": "python",
   "name": "python2"
  },
  "language_info": {
   "codemirror_mode": {
    "name": "ipython",
    "version": 2
   },
   "file_extension": ".py",
   "mimetype": "text/x-python",
   "name": "python",
   "nbconvert_exporter": "python",
   "pygments_lexer": "ipython2",
   "version": "2.7.12"
  }
 },
 "nbformat": 4,
 "nbformat_minor": 2
}
